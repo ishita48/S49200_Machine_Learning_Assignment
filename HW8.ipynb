{
 "cells": [
  {
   "cell_type": "markdown",
   "id": "20e75a90",
   "metadata": {
    "papermill": {
     "duration": 0.005171,
     "end_time": "2025-05-01T22:04:10.485983",
     "exception": false,
     "start_time": "2025-05-01T22:04:10.480812",
     "status": "completed"
    },
    "tags": []
   },
   "source": [
    "BASELINE"
   ]
  },
  {
   "cell_type": "code",
   "execution_count": 1,
   "id": "3a377f20",
   "metadata": {
    "execution": {
     "iopub.execute_input": "2025-05-01T22:04:10.495757Z",
     "iopub.status.busy": "2025-05-01T22:04:10.495250Z",
     "iopub.status.idle": "2025-05-01T22:04:13.979282Z",
     "shell.execute_reply": "2025-05-01T22:04:13.978643Z"
    },
    "papermill": {
     "duration": 3.490539,
     "end_time": "2025-05-01T22:04:13.980827",
     "exception": false,
     "start_time": "2025-05-01T22:04:10.490288",
     "status": "completed"
    },
    "tags": []
   },
   "outputs": [],
   "source": [
    "#Import Libraries \n",
    "import numpy as np\n",
    "import pandas as pd\n",
    "import os\n",
    "from sklearn.ensemble import RandomForestClassifier\n",
    "from sklearn.metrics import accuracy_score, confusion_matrix, f1_score"
   ]
  },
  {
   "cell_type": "code",
   "execution_count": 2,
   "id": "595ca6f0",
   "metadata": {
    "execution": {
     "iopub.execute_input": "2025-05-01T22:04:13.990315Z",
     "iopub.status.busy": "2025-05-01T22:04:13.989953Z",
     "iopub.status.idle": "2025-05-01T22:04:14.027707Z",
     "shell.execute_reply": "2025-05-01T22:04:14.026700Z"
    },
    "papermill": {
     "duration": 0.043928,
     "end_time": "2025-05-01T22:04:14.029123",
     "exception": false,
     "start_time": "2025-05-01T22:04:13.985195",
     "status": "completed"
    },
    "tags": []
   },
   "outputs": [
    {
     "name": "stdout",
     "output_type": "stream",
     "text": [
      "/kaggle/input/titanic/train.csv\n",
      "/kaggle/input/titanic/test.csv\n",
      "/kaggle/input/titanic/gender_submission.csv\n"
     ]
    }
   ],
   "source": [
    "#Check Available Files\n",
    "for dirname, _, filenames in os.walk('/kaggle/input'):\n",
    "    for filename in filenames:\n",
    "        print(os.path.join(dirname, filename))\n",
    "\n",
    "#Load Datasets \n",
    "train_data = pd.read_csv(\"/kaggle/input/titanic/train.csv\")\n",
    "test_data = pd.read_csv(\"/kaggle/input/titanic/test.csv\")"
   ]
  },
  {
   "cell_type": "code",
   "execution_count": 3,
   "id": "998565f7",
   "metadata": {
    "execution": {
     "iopub.execute_input": "2025-05-01T22:04:14.038299Z",
     "iopub.status.busy": "2025-05-01T22:04:14.038031Z",
     "iopub.status.idle": "2025-05-01T22:04:14.053593Z",
     "shell.execute_reply": "2025-05-01T22:04:14.052566Z"
    },
    "papermill": {
     "duration": 0.021754,
     "end_time": "2025-05-01T22:04:14.055079",
     "exception": false,
     "start_time": "2025-05-01T22:04:14.033325",
     "status": "completed"
    },
    "tags": []
   },
   "outputs": [
    {
     "name": "stdout",
     "output_type": "stream",
     "text": [
      "   PassengerId  Survived  Pclass  \\\n",
      "0            1         0       3   \n",
      "1            2         1       1   \n",
      "2            3         1       3   \n",
      "3            4         1       1   \n",
      "4            5         0       3   \n",
      "\n",
      "                                                Name     Sex   Age  SibSp  \\\n",
      "0                            Braund, Mr. Owen Harris    male  22.0      1   \n",
      "1  Cumings, Mrs. John Bradley (Florence Briggs Th...  female  38.0      1   \n",
      "2                             Heikkinen, Miss. Laina  female  26.0      0   \n",
      "3       Futrelle, Mrs. Jacques Heath (Lily May Peel)  female  35.0      1   \n",
      "4                           Allen, Mr. William Henry    male  35.0      0   \n",
      "\n",
      "   Parch            Ticket     Fare Cabin Embarked  \n",
      "0      0         A/5 21171   7.2500   NaN        S  \n",
      "1      0          PC 17599  71.2833   C85        C  \n",
      "2      0  STON/O2. 3101282   7.9250   NaN        S  \n",
      "3      0            113803  53.1000  C123        S  \n",
      "4      0            373450   8.0500   NaN        S  \n"
     ]
    }
   ],
   "source": [
    "#Preview Training Data \n",
    "print(train_data.head())\n"
   ]
  },
  {
   "cell_type": "code",
   "execution_count": 4,
   "id": "9fac12b9",
   "metadata": {
    "execution": {
     "iopub.execute_input": "2025-05-01T22:04:14.065120Z",
     "iopub.status.busy": "2025-05-01T22:04:14.064367Z",
     "iopub.status.idle": "2025-05-01T22:04:14.077041Z",
     "shell.execute_reply": "2025-05-01T22:04:14.076216Z"
    },
    "papermill": {
     "duration": 0.018985,
     "end_time": "2025-05-01T22:04:14.078340",
     "exception": false,
     "start_time": "2025-05-01T22:04:14.059355",
     "status": "completed"
    },
    "tags": []
   },
   "outputs": [
    {
     "name": "stdout",
     "output_type": "stream",
     "text": [
      "% of women who survived: 0.7420382165605095\n",
      "% of men who survived: 0.18890814558058924\n"
     ]
    }
   ],
   "source": [
    "#Analyze Survival Rates by Gender\n",
    "women = train_data.loc[train_data.Sex == 'female'][\"Survived\"]\n",
    "men = train_data.loc[train_data.Sex == 'male'][\"Survived\"]\n",
    "\n",
    "rate_women = sum(women) / len(women)\n",
    "rate_men = sum(men) / len(men)\n",
    "\n",
    "print(\"% of women who survived:\", rate_women)\n",
    "print(\"% of men who survived:\", rate_men)"
   ]
  },
  {
   "cell_type": "code",
   "execution_count": 5,
   "id": "3462aa8b",
   "metadata": {
    "execution": {
     "iopub.execute_input": "2025-05-01T22:04:14.087880Z",
     "iopub.status.busy": "2025-05-01T22:04:14.087377Z",
     "iopub.status.idle": "2025-05-01T22:04:14.103053Z",
     "shell.execute_reply": "2025-05-01T22:04:14.102180Z"
    },
    "papermill": {
     "duration": 0.021733,
     "end_time": "2025-05-01T22:04:14.104441",
     "exception": false,
     "start_time": "2025-05-01T22:04:14.082708",
     "status": "completed"
    },
    "tags": []
   },
   "outputs": [],
   "source": [
    "#Feature Selection\n",
    "features = [\"Pclass\", \"Sex\", \"SibSp\", \"Parch\"]\n",
    "X = pd.get_dummies(train_data[features])\n",
    "X_test = pd.get_dummies(test_data[features])\n",
    "y = train_data[\"Survived\"]\n"
   ]
  },
  {
   "cell_type": "code",
   "execution_count": 6,
   "id": "33e87b68",
   "metadata": {
    "execution": {
     "iopub.execute_input": "2025-05-01T22:04:14.113818Z",
     "iopub.status.busy": "2025-05-01T22:04:14.113527Z",
     "iopub.status.idle": "2025-05-01T22:04:14.273670Z",
     "shell.execute_reply": "2025-05-01T22:04:14.272816Z"
    },
    "papermill": {
     "duration": 0.16653,
     "end_time": "2025-05-01T22:04:14.275167",
     "exception": false,
     "start_time": "2025-05-01T22:04:14.108637",
     "status": "completed"
    },
    "tags": []
   },
   "outputs": [
    {
     "data": {
      "text/html": [
       "<style>#sk-container-id-1 {color: black;background-color: white;}#sk-container-id-1 pre{padding: 0;}#sk-container-id-1 div.sk-toggleable {background-color: white;}#sk-container-id-1 label.sk-toggleable__label {cursor: pointer;display: block;width: 100%;margin-bottom: 0;padding: 0.3em;box-sizing: border-box;text-align: center;}#sk-container-id-1 label.sk-toggleable__label-arrow:before {content: \"▸\";float: left;margin-right: 0.25em;color: #696969;}#sk-container-id-1 label.sk-toggleable__label-arrow:hover:before {color: black;}#sk-container-id-1 div.sk-estimator:hover label.sk-toggleable__label-arrow:before {color: black;}#sk-container-id-1 div.sk-toggleable__content {max-height: 0;max-width: 0;overflow: hidden;text-align: left;background-color: #f0f8ff;}#sk-container-id-1 div.sk-toggleable__content pre {margin: 0.2em;color: black;border-radius: 0.25em;background-color: #f0f8ff;}#sk-container-id-1 input.sk-toggleable__control:checked~div.sk-toggleable__content {max-height: 200px;max-width: 100%;overflow: auto;}#sk-container-id-1 input.sk-toggleable__control:checked~label.sk-toggleable__label-arrow:before {content: \"▾\";}#sk-container-id-1 div.sk-estimator input.sk-toggleable__control:checked~label.sk-toggleable__label {background-color: #d4ebff;}#sk-container-id-1 div.sk-label input.sk-toggleable__control:checked~label.sk-toggleable__label {background-color: #d4ebff;}#sk-container-id-1 input.sk-hidden--visually {border: 0;clip: rect(1px 1px 1px 1px);clip: rect(1px, 1px, 1px, 1px);height: 1px;margin: -1px;overflow: hidden;padding: 0;position: absolute;width: 1px;}#sk-container-id-1 div.sk-estimator {font-family: monospace;background-color: #f0f8ff;border: 1px dotted black;border-radius: 0.25em;box-sizing: border-box;margin-bottom: 0.5em;}#sk-container-id-1 div.sk-estimator:hover {background-color: #d4ebff;}#sk-container-id-1 div.sk-parallel-item::after {content: \"\";width: 100%;border-bottom: 1px solid gray;flex-grow: 1;}#sk-container-id-1 div.sk-label:hover label.sk-toggleable__label {background-color: #d4ebff;}#sk-container-id-1 div.sk-serial::before {content: \"\";position: absolute;border-left: 1px solid gray;box-sizing: border-box;top: 0;bottom: 0;left: 50%;z-index: 0;}#sk-container-id-1 div.sk-serial {display: flex;flex-direction: column;align-items: center;background-color: white;padding-right: 0.2em;padding-left: 0.2em;position: relative;}#sk-container-id-1 div.sk-item {position: relative;z-index: 1;}#sk-container-id-1 div.sk-parallel {display: flex;align-items: stretch;justify-content: center;background-color: white;position: relative;}#sk-container-id-1 div.sk-item::before, #sk-container-id-1 div.sk-parallel-item::before {content: \"\";position: absolute;border-left: 1px solid gray;box-sizing: border-box;top: 0;bottom: 0;left: 50%;z-index: -1;}#sk-container-id-1 div.sk-parallel-item {display: flex;flex-direction: column;z-index: 1;position: relative;background-color: white;}#sk-container-id-1 div.sk-parallel-item:first-child::after {align-self: flex-end;width: 50%;}#sk-container-id-1 div.sk-parallel-item:last-child::after {align-self: flex-start;width: 50%;}#sk-container-id-1 div.sk-parallel-item:only-child::after {width: 0;}#sk-container-id-1 div.sk-dashed-wrapped {border: 1px dashed gray;margin: 0 0.4em 0.5em 0.4em;box-sizing: border-box;padding-bottom: 0.4em;background-color: white;}#sk-container-id-1 div.sk-label label {font-family: monospace;font-weight: bold;display: inline-block;line-height: 1.2em;}#sk-container-id-1 div.sk-label-container {text-align: center;}#sk-container-id-1 div.sk-container {/* jupyter's `normalize.less` sets `[hidden] { display: none; }` but bootstrap.min.css set `[hidden] { display: none !important; }` so we also need the `!important` here to be able to override the default hidden behavior on the sphinx rendered scikit-learn.org. See: https://github.com/scikit-learn/scikit-learn/issues/21755 */display: inline-block !important;position: relative;}#sk-container-id-1 div.sk-text-repr-fallback {display: none;}</style><div id=\"sk-container-id-1\" class=\"sk-top-container\"><div class=\"sk-text-repr-fallback\"><pre>RandomForestClassifier(max_depth=5, random_state=1)</pre><b>In a Jupyter environment, please rerun this cell to show the HTML representation or trust the notebook. <br />On GitHub, the HTML representation is unable to render, please try loading this page with nbviewer.org.</b></div><div class=\"sk-container\" hidden><div class=\"sk-item\"><div class=\"sk-estimator sk-toggleable\"><input class=\"sk-toggleable__control sk-hidden--visually\" id=\"sk-estimator-id-1\" type=\"checkbox\" checked><label for=\"sk-estimator-id-1\" class=\"sk-toggleable__label sk-toggleable__label-arrow\">RandomForestClassifier</label><div class=\"sk-toggleable__content\"><pre>RandomForestClassifier(max_depth=5, random_state=1)</pre></div></div></div></div></div>"
      ],
      "text/plain": [
       "RandomForestClassifier(max_depth=5, random_state=1)"
      ]
     },
     "execution_count": 6,
     "metadata": {},
     "output_type": "execute_result"
    }
   ],
   "source": [
    "#Train Random Forest Model \n",
    "model = RandomForestClassifier(n_estimators=100, max_depth=5, random_state=1)\n",
    "model.fit(X, y)\n"
   ]
  },
  {
   "cell_type": "code",
   "execution_count": 7,
   "id": "86ce843c",
   "metadata": {
    "execution": {
     "iopub.execute_input": "2025-05-01T22:04:14.285969Z",
     "iopub.status.busy": "2025-05-01T22:04:14.285115Z",
     "iopub.status.idle": "2025-05-01T22:04:14.301576Z",
     "shell.execute_reply": "2025-05-01T22:04:14.300652Z"
    },
    "papermill": {
     "duration": 0.02377,
     "end_time": "2025-05-01T22:04:14.303590",
     "exception": false,
     "start_time": "2025-05-01T22:04:14.279820",
     "status": "completed"
    },
    "tags": []
   },
   "outputs": [],
   "source": [
    "#Make Predictions on Test Set\n",
    "predictions = model.predict(X_test)"
   ]
  },
  {
   "cell_type": "code",
   "execution_count": 8,
   "id": "96b2e0e7",
   "metadata": {
    "execution": {
     "iopub.execute_input": "2025-05-01T22:04:14.317145Z",
     "iopub.status.busy": "2025-05-01T22:04:14.316722Z",
     "iopub.status.idle": "2025-05-01T22:04:14.332341Z",
     "shell.execute_reply": "2025-05-01T22:04:14.331190Z"
    },
    "papermill": {
     "duration": 0.024341,
     "end_time": "2025-05-01T22:04:14.333998",
     "exception": false,
     "start_time": "2025-05-01T22:04:14.309657",
     "status": "completed"
    },
    "tags": []
   },
   "outputs": [
    {
     "name": "stdout",
     "output_type": "stream",
     "text": [
      "Your submission was successfully saved!\n"
     ]
    }
   ],
   "source": [
    "#Export Submission File \n",
    "output = pd.DataFrame({'PassengerId': test_data.PassengerId, 'Survived': predictions})\n",
    "output.to_csv('submission.csv', index=False)\n",
    "print(\"Your submission was successfully saved!\")\n"
   ]
  },
  {
   "cell_type": "code",
   "execution_count": 9,
   "id": "1b154c5e",
   "metadata": {
    "execution": {
     "iopub.execute_input": "2025-05-01T22:04:14.350036Z",
     "iopub.status.busy": "2025-05-01T22:04:14.349603Z",
     "iopub.status.idle": "2025-05-01T22:04:14.376758Z",
     "shell.execute_reply": "2025-05-01T22:04:14.375747Z"
    },
    "papermill": {
     "duration": 0.036736,
     "end_time": "2025-05-01T22:04:14.378143",
     "exception": false,
     "start_time": "2025-05-01T22:04:14.341407",
     "status": "completed"
    },
    "tags": []
   },
   "outputs": [
    {
     "name": "stdout",
     "output_type": "stream",
     "text": [
      "\n",
      "--- Evaluation on Training Data ---\n",
      "Accuracy: 0.8159371492704826\n",
      "Confusion Matrix:\n",
      " [[492  57]\n",
      " [107 235]]\n",
      "F1 Score: 0.7413249211356466\n"
     ]
    }
   ],
   "source": [
    "#Evaluate on Training Set \n",
    "train_predictions = model.predict(X)\n",
    "\n",
    "accuracy = accuracy_score(y, train_predictions)\n",
    "conf_matrix = confusion_matrix(y, train_predictions)\n",
    "f1 = f1_score(y, train_predictions)\n",
    "\n",
    "print(\"\\n--- Evaluation on Training Data ---\")\n",
    "print(\"Accuracy:\", accuracy)\n",
    "print(\"Confusion Matrix:\\n\", conf_matrix)\n",
    "print(\"F1 Score:\", f1)"
   ]
  },
  {
   "cell_type": "markdown",
   "id": "f361f6a0",
   "metadata": {
    "papermill": {
     "duration": 0.004296,
     "end_time": "2025-05-01T22:04:14.386941",
     "exception": false,
     "start_time": "2025-05-01T22:04:14.382645",
     "status": "completed"
    },
    "tags": []
   },
   "source": [
    "My machine learning implementation "
   ]
  },
  {
   "cell_type": "code",
   "execution_count": 10,
   "id": "3138e7a1",
   "metadata": {
    "_cell_guid": "b1076dfc-b9ad-4769-8c92-a6c4dae69d19",
    "_uuid": "8f2839f25d086af736a60e9eeb907d3b93b6e0e5",
    "execution": {
     "iopub.execute_input": "2025-05-01T22:04:14.397164Z",
     "iopub.status.busy": "2025-05-01T22:04:14.396860Z",
     "iopub.status.idle": "2025-05-01T22:04:14.401443Z",
     "shell.execute_reply": "2025-05-01T22:04:14.400529Z"
    },
    "papermill": {
     "duration": 0.011278,
     "end_time": "2025-05-01T22:04:14.402919",
     "exception": false,
     "start_time": "2025-05-01T22:04:14.391641",
     "status": "completed"
    },
    "tags": []
   },
   "outputs": [],
   "source": [
    "#Libraries\n",
    "import pandas as pd\n",
    "import numpy as np\n",
    "from sklearn.ensemble import RandomForestClassifier, VotingClassifier\n",
    "from sklearn.linear_model import LogisticRegression\n",
    "from sklearn.svm import SVC"
   ]
  },
  {
   "cell_type": "code",
   "execution_count": 11,
   "id": "a8b41c40",
   "metadata": {
    "execution": {
     "iopub.execute_input": "2025-05-01T22:04:14.413622Z",
     "iopub.status.busy": "2025-05-01T22:04:14.413254Z",
     "iopub.status.idle": "2025-05-01T22:04:14.429613Z",
     "shell.execute_reply": "2025-05-01T22:04:14.428537Z"
    },
    "papermill": {
     "duration": 0.02452,
     "end_time": "2025-05-01T22:04:14.431893",
     "exception": false,
     "start_time": "2025-05-01T22:04:14.407373",
     "status": "completed"
    },
    "tags": []
   },
   "outputs": [],
   "source": [
    "#Load Data \n",
    "train_df = pd.read_csv(\"/kaggle/input/titanic/train.csv\")\n",
    "test_df = pd.read_csv(\"/kaggle/input/titanic/test.csv\")\n",
    "test_passenger_id = test_df['PassengerId']"
   ]
  },
  {
   "cell_type": "code",
   "execution_count": 12,
   "id": "0f7cc8fd",
   "metadata": {
    "execution": {
     "iopub.execute_input": "2025-05-01T22:04:14.446176Z",
     "iopub.status.busy": "2025-05-01T22:04:14.445708Z",
     "iopub.status.idle": "2025-05-01T22:04:14.451625Z",
     "shell.execute_reply": "2025-05-01T22:04:14.450062Z"
    },
    "papermill": {
     "duration": 0.015221,
     "end_time": "2025-05-01T22:04:14.453310",
     "exception": false,
     "start_time": "2025-05-01T22:04:14.438089",
     "status": "completed"
    },
    "tags": []
   },
   "outputs": [],
   "source": [
    "#Combine for Shared Processing \n",
    "full_data = [train_df, test_df]"
   ]
  },
  {
   "cell_type": "code",
   "execution_count": 13,
   "id": "867bfb70",
   "metadata": {
    "execution": {
     "iopub.execute_input": "2025-05-01T22:04:14.469614Z",
     "iopub.status.busy": "2025-05-01T22:04:14.469242Z",
     "iopub.status.idle": "2025-05-01T22:04:14.485888Z",
     "shell.execute_reply": "2025-05-01T22:04:14.484896Z"
    },
    "papermill": {
     "duration": 0.026642,
     "end_time": "2025-05-01T22:04:14.487926",
     "exception": false,
     "start_time": "2025-05-01T22:04:14.461284",
     "status": "completed"
    },
    "tags": []
   },
   "outputs": [],
   "source": [
    "for dataset in full_data:\n",
    "    dataset['Title'] = dataset['Name'].str.extract(' ([A-Za-z]+)\\.', expand=False)\n",
    "    dataset['Title'] = dataset['Title'].replace(['Lady', 'Countess', 'Capt', 'Col', 'Don', 'Dr',\n",
    "                                                 'Major', 'Rev', 'Sir', 'Jonkheer', 'Dona'], 'Rare')\n",
    "    dataset['Title'] = dataset['Title'].replace({'Mlle': 'Miss', 'Ms': 'Miss', 'Mme': 'Mrs'})\n",
    "    dataset['Title'] = dataset['Title'].map({'Mr': 1, 'Miss': 2, 'Mrs': 3,\n",
    "                                             'Master': 4, 'Rare': 5}).fillna(0)"
   ]
  },
  {
   "cell_type": "code",
   "execution_count": 14,
   "id": "dd6c6447",
   "metadata": {
    "execution": {
     "iopub.execute_input": "2025-05-01T22:04:14.502709Z",
     "iopub.status.busy": "2025-05-01T22:04:14.502381Z",
     "iopub.status.idle": "2025-05-01T22:04:14.514384Z",
     "shell.execute_reply": "2025-05-01T22:04:14.513727Z"
    },
    "papermill": {
     "duration": 0.02049,
     "end_time": "2025-05-01T22:04:14.515766",
     "exception": false,
     "start_time": "2025-05-01T22:04:14.495276",
     "status": "completed"
    },
    "tags": []
   },
   "outputs": [],
   "source": [
    "#Drop Columns\n",
    "train_df = train_df.drop(['Name', 'Ticket', 'Cabin', 'PassengerId'], axis=1)\n",
    "test_df = test_df.drop(['Name', 'Ticket', 'Cabin'], axis=1)\n",
    "\n",
    "#Convert Sex and Embarked \n",
    "for dataset in [train_df, test_df]:\n",
    "    dataset['Sex'] = dataset['Sex'].map({'female': 1, 'male': 0}).astype(int)\n",
    "    dataset['Embarked'] = dataset['Embarked'].fillna('S')\n",
    "    dataset['Embarked'] = dataset['Embarked'].map({'S': 0, 'C': 1, 'Q': 2}).astype(int)"
   ]
  },
  {
   "cell_type": "code",
   "execution_count": 15,
   "id": "3ea8c51f",
   "metadata": {
    "execution": {
     "iopub.execute_input": "2025-05-01T22:04:14.526044Z",
     "iopub.status.busy": "2025-05-01T22:04:14.525733Z",
     "iopub.status.idle": "2025-05-01T22:04:14.648139Z",
     "shell.execute_reply": "2025-05-01T22:04:14.647086Z"
    },
    "papermill": {
     "duration": 0.129701,
     "end_time": "2025-05-01T22:04:14.650076",
     "exception": false,
     "start_time": "2025-05-01T22:04:14.520375",
     "status": "completed"
    },
    "tags": []
   },
   "outputs": [],
   "source": [
    "#Fill and Bin Age \n",
    "guess_ages = np.zeros((2, 3))\n",
    "for dataset in [train_df, test_df]:\n",
    "    for i in range(2):\n",
    "        for j in range(3):\n",
    "            guess_df = dataset[(dataset['Sex'] == i) & (dataset['Pclass'] == j+1)]['Age'].dropna()\n",
    "            guess_ages[i, j] = guess_df.median()\n",
    "    for i in range(2):\n",
    "        for j in range(3):\n",
    "            dataset.loc[(dataset['Age'].isnull()) & \n",
    "                        (dataset['Sex'] == i) & \n",
    "                        (dataset['Pclass'] == j+1), 'Age'] = guess_ages[i, j]\n",
    "    dataset['Age'] = dataset['Age'].astype(int)\n",
    "    dataset.loc[dataset['Age'] <= 16, 'Age'] = 0\n",
    "    dataset.loc[(dataset['Age'] > 16) & (dataset['Age'] <= 32), 'Age'] = 1\n",
    "    dataset.loc[(dataset['Age'] > 32) & (dataset['Age'] <= 48), 'Age'] = 2\n",
    "    dataset.loc[(dataset['Age'] > 48) & (dataset['Age'] <= 64), 'Age'] = 3\n",
    "    dataset.loc[dataset['Age'] > 64, 'Age'] = 4"
   ]
  },
  {
   "cell_type": "code",
   "execution_count": 16,
   "id": "ab8a167c",
   "metadata": {
    "execution": {
     "iopub.execute_input": "2025-05-01T22:04:14.667579Z",
     "iopub.status.busy": "2025-05-01T22:04:14.667232Z",
     "iopub.status.idle": "2025-05-01T22:04:14.680288Z",
     "shell.execute_reply": "2025-05-01T22:04:14.679318Z"
    },
    "papermill": {
     "duration": 0.023083,
     "end_time": "2025-05-01T22:04:14.681648",
     "exception": false,
     "start_time": "2025-05-01T22:04:14.658565",
     "status": "completed"
    },
    "tags": []
   },
   "outputs": [],
   "source": [
    "#Create Family Features\n",
    "for dataset in [train_df, test_df]:\n",
    "    dataset['FamilySize'] = dataset['SibSp'] + dataset['Parch'] + 1\n",
    "    dataset['IsAlone'] = (dataset['FamilySize'] == 1).astype(int)\n",
    "    dataset.drop(['SibSp', 'Parch', 'FamilySize'], axis=1, inplace=True)\n",
    "\n",
    "#Add Interaction Term\n",
    "for dataset in [train_df, test_df]:\n",
    "    dataset['Age*Class'] = dataset['Age'] * dataset['Pclass']\n",
    "\n",
    "#Fix Fare in Test \n",
    "test_df['Fare'] = test_df['Fare'].replace([np.inf, -np.inf], np.nan)\n",
    "test_df['Fare'] = test_df['Fare'].fillna(test_df['Fare'].median())\n"
   ]
  },
  {
   "cell_type": "code",
   "execution_count": 17,
   "id": "ee48cb79",
   "metadata": {
    "execution": {
     "iopub.execute_input": "2025-05-01T22:04:14.692606Z",
     "iopub.status.busy": "2025-05-01T22:04:14.691581Z",
     "iopub.status.idle": "2025-05-01T22:04:14.714437Z",
     "shell.execute_reply": "2025-05-01T22:04:14.713542Z"
    },
    "papermill": {
     "duration": 0.029969,
     "end_time": "2025-05-01T22:04:14.716080",
     "exception": false,
     "start_time": "2025-05-01T22:04:14.686111",
     "status": "completed"
    },
    "tags": []
   },
   "outputs": [],
   "source": [
    "#Bin Fare \n",
    "train_df['FareBand'] = pd.qcut(train_df['Fare'], 4)\n",
    "\n",
    "for dataset in [train_df, test_df]:\n",
    "    dataset['Fare'] = dataset['Fare'].replace([np.inf, -np.inf], np.nan)\n",
    "    dataset['Fare'] = dataset['Fare'].fillna(0)\n",
    "    dataset.loc[dataset['Fare'] <= 7.91, 'Fare'] = 0\n",
    "    dataset.loc[(dataset['Fare'] > 7.91) & (dataset['Fare'] <= 14.454), 'Fare'] = 1\n",
    "    dataset.loc[(dataset['Fare'] > 14.454) & (dataset['Fare'] <= 31), 'Fare'] = 2\n",
    "    dataset.loc[dataset['Fare'] > 31, 'Fare'] = 3\n",
    "    dataset['Fare'] = dataset['Fare'].astype(int)\n",
    "\n",
    "train_df.drop(['FareBand'], axis=1, inplace=True)"
   ]
  },
  {
   "cell_type": "code",
   "execution_count": 18,
   "id": "519eb495",
   "metadata": {
    "execution": {
     "iopub.execute_input": "2025-05-01T22:04:14.726747Z",
     "iopub.status.busy": "2025-05-01T22:04:14.726178Z",
     "iopub.status.idle": "2025-05-01T22:04:14.732799Z",
     "shell.execute_reply": "2025-05-01T22:04:14.731715Z"
    },
    "papermill": {
     "duration": 0.01348,
     "end_time": "2025-05-01T22:04:14.734151",
     "exception": false,
     "start_time": "2025-05-01T22:04:14.720671",
     "status": "completed"
    },
    "tags": []
   },
   "outputs": [],
   "source": [
    "# Final Train/Test Data \n",
    "X_train = train_df.drop(\"Survived\", axis=1)\n",
    "y_train = train_df[\"Survived\"]\n",
    "X_test = test_df.drop(\"PassengerId\", axis=1)"
   ]
  },
  {
   "cell_type": "code",
   "execution_count": 19,
   "id": "8f26932e",
   "metadata": {
    "execution": {
     "iopub.execute_input": "2025-05-01T22:04:14.744336Z",
     "iopub.status.busy": "2025-05-01T22:04:14.743801Z",
     "iopub.status.idle": "2025-05-01T22:04:14.748847Z",
     "shell.execute_reply": "2025-05-01T22:04:14.747851Z"
    },
    "papermill": {
     "duration": 0.011676,
     "end_time": "2025-05-01T22:04:14.750280",
     "exception": false,
     "start_time": "2025-05-01T22:04:14.738604",
     "status": "completed"
    },
    "tags": []
   },
   "outputs": [],
   "source": [
    "#Ensemble: Soft Voting Classifier\n",
    "log_clf = LogisticRegression(max_iter=2000)\n",
    "svc_clf = SVC(probability=True)\n",
    "rf_clf = RandomForestClassifier(n_estimators=100, random_state=42)\n",
    "\n",
    "ensemble = VotingClassifier(\n",
    "    estimators=[('lr', log_clf), ('svc', svc_clf), ('rf', rf_clf)],\n",
    "    voting='soft'\n",
    ")"
   ]
  },
  {
   "cell_type": "code",
   "execution_count": 20,
   "id": "c35646b7",
   "metadata": {
    "execution": {
     "iopub.execute_input": "2025-05-01T22:04:14.760295Z",
     "iopub.status.busy": "2025-05-01T22:04:14.760016Z",
     "iopub.status.idle": "2025-05-01T22:04:15.316958Z",
     "shell.execute_reply": "2025-05-01T22:04:15.316055Z"
    },
    "papermill": {
     "duration": 0.56368,
     "end_time": "2025-05-01T22:04:15.318558",
     "exception": false,
     "start_time": "2025-05-01T22:04:14.754878",
     "status": "completed"
    },
    "tags": []
   },
   "outputs": [],
   "source": [
    "#Fit and Predict\n",
    "ensemble.fit(X_train, y_train)\n",
    "y_pred = ensemble.predict(X_test)\n"
   ]
  },
  {
   "cell_type": "code",
   "execution_count": 21,
   "id": "9e834cb3",
   "metadata": {
    "execution": {
     "iopub.execute_input": "2025-05-01T22:04:15.330032Z",
     "iopub.status.busy": "2025-05-01T22:04:15.329772Z",
     "iopub.status.idle": "2025-05-01T22:04:15.422989Z",
     "shell.execute_reply": "2025-05-01T22:04:15.421810Z"
    },
    "papermill": {
     "duration": 0.099938,
     "end_time": "2025-05-01T22:04:15.424409",
     "exception": false,
     "start_time": "2025-05-01T22:04:15.324471",
     "status": "completed"
    },
    "tags": []
   },
   "outputs": [
    {
     "name": "stdout",
     "output_type": "stream",
     "text": [
      "Training Accuracy: 84.18 %\n",
      "\n",
      "=== Model Evaluation on Training Data ===\n",
      "Accuracy: 0.8418\n",
      "F1 Score: 0.778\n",
      "Confusion Matrix:\n",
      " [[503  46]\n",
      " [ 95 247]]\n"
     ]
    }
   ],
   "source": [
    "#Submission ===\n",
    "submission = pd.DataFrame({\n",
    "    \"PassengerId\": test_passenger_id,\n",
    "    \"Survived\": y_pred\n",
    "})\n",
    "submission.to_csv(\"submission_now.csv\", index=False)\n",
    "\n",
    "#Show Accuracy \n",
    "print(\"Training Accuracy:\", round(ensemble.score(X_train, y_train) * 100, 2), \"%\")\n",
    "\n",
    "#Evaluation on Training Data\n",
    "train_preds = ensemble.predict(X_train)\n",
    "\n",
    "acc = accuracy_score(y_train, train_preds)\n",
    "conf = confusion_matrix(y_train, train_preds)\n",
    "f1 = f1_score(y_train, train_preds)\n",
    "\n",
    "print(\"\\n=== Model Evaluation on Training Data ===\")\n",
    "print(\"Accuracy:\", round(acc, 4))\n",
    "print(\"F1 Score:\", round(f1, 4))\n",
    "print(\"Confusion Matrix:\\n\", conf)"
   ]
  }
 ],
 "metadata": {
  "kaggle": {
   "accelerator": "none",
   "dataSources": [
    {
     "databundleVersionId": 26502,
     "sourceId": 3136,
     "sourceType": "competition"
    }
   ],
   "dockerImageVersionId": 31012,
   "isGpuEnabled": false,
   "isInternetEnabled": true,
   "language": "python",
   "sourceType": "notebook"
  },
  "kernelspec": {
   "display_name": "Python 3",
   "language": "python",
   "name": "python3"
  },
  "language_info": {
   "codemirror_mode": {
    "name": "ipython",
    "version": 3
   },
   "file_extension": ".py",
   "mimetype": "text/x-python",
   "name": "python",
   "nbconvert_exporter": "python",
   "pygments_lexer": "ipython3",
   "version": "3.11.11"
  },
  "papermill": {
   "default_parameters": {},
   "duration": 10.097233,
   "end_time": "2025-05-01T22:04:16.048935",
   "environment_variables": {},
   "exception": null,
   "input_path": "__notebook__.ipynb",
   "output_path": "__notebook__.ipynb",
   "parameters": {},
   "start_time": "2025-05-01T22:04:05.951702",
   "version": "2.6.0"
  }
 },
 "nbformat": 4,
 "nbformat_minor": 5
}
